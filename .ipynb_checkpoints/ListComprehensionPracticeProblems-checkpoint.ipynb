{
 "cells": [
  {
   "cell_type": "markdown",
   "metadata": {},
   "source": [
    "1. Identity: Given a list of numbers, write a list comprehension that produces a copy of the list.\n",
    "        \n",
    "        >>> identity([1, 2, 3, 4, 5])\n",
    "        [1, 2, 3, 4, 5]\n",
    "\n",
    "        >>> identity([])\n",
    "        []"
   ]
  },
  {
   "cell_type": "code",
   "execution_count": 2,
   "metadata": {},
   "outputs": [
    {
     "data": {
      "text/plain": [
       "[2, 32, 41, 25, 67, 70]"
      ]
     },
     "execution_count": 2,
     "metadata": {},
     "output_type": "execute_result"
    }
   ],
   "source": [
    "def identity(nums):\n",
    "    numsCopy = [num for num in nums]\n",
    "    return numsCopy\n",
    "    \n",
    "identity([2,32,41,25,67,70])"
   ]
  },
  {
   "cell_type": "markdown",
   "metadata": {},
   "source": [
    "2. Doubled: Given a list of numbers, write a list comprehension that produces a list of each number doubled.  \n",
    "       \n",
    "        >>> doubled([1, 2, 3, 4, 5])\n",
    "        [2, 4, 6, 8, 10]\n",
    "\n",
    "        >>> doubled([-2, 2, -10, 10])\n",
    "        [-4, 4, -20, 20]"
   ]
  },
  {
   "cell_type": "code",
   "execution_count": 3,
   "metadata": {},
   "outputs": [
    {
     "data": {
      "text/plain": [
       "[4, -6, 12, -8, 24, 60, -20]"
      ]
     },
     "execution_count": 3,
     "metadata": {},
     "output_type": "execute_result"
    }
   ],
   "source": [
    "def doubled(nums):\n",
    "    doubleNums = [num*2 for num in nums]\n",
    "    return doubleNums\n",
    "    \n",
    "doubled([2,-3,6,-4,12,30,-10])"
   ]
  },
  {
   "cell_type": "markdown",
   "metadata": {},
   "source": [
    "3. Squared: Given a list of numbers, write a list comprehension that produces a list of the squares of each number. \n",
    "        \n",
    "        >>> squared([1, 2, 3, 4, 5])\n",
    "        [1, 4, 9, 16, 25]\n",
    "\n",
    "        >>> squared([-2, 2, -10, 10])\n",
    "        [4, 4, 100, 100]"
   ]
  },
  {
   "cell_type": "code",
   "execution_count": 4,
   "metadata": {},
   "outputs": [
    {
     "data": {
      "text/plain": [
       "[4, 9, 36, 16, 144, 900, 100]"
      ]
     },
     "execution_count": 4,
     "metadata": {},
     "output_type": "execute_result"
    }
   ],
   "source": [
    "def squared(nums):\n",
    "    squares = [num*num for num in nums]\n",
    "    return squares\n",
    "    \n",
    "squared([2,-3,6,-4,12,30,-10])"
   ]
  },
  {
   "cell_type": "markdown",
   "metadata": {},
   "source": [
    "4. Evens: Given a list of numbers, write a list comprehension that produces a list of only the even numbers in that list. \n",
    "       \n",
    "        >>> evens([1, 2, 3, 4, 5])\n",
    "        [2, 4]\n",
    "\n",
    "        >>> evens([1, 3, 5])\n",
    "        []\n",
    "\n",
    "        >>> evens([-2, -4, -7])\n",
    "        [-2, -4]"
   ]
  },
  {
   "cell_type": "code",
   "execution_count": 5,
   "metadata": {},
   "outputs": [
    {
     "data": {
      "text/plain": [
       "[2, 6, 12, 30]"
      ]
     },
     "execution_count": 5,
     "metadata": {},
     "output_type": "execute_result"
    }
   ],
   "source": [
    "def evens(nums):\n",
    "    evenNums = [num for num in nums if num%2==0]\n",
    "    return evenNums\n",
    "    \n",
    "evens([2,-3,6,21,12,30,-11])"
   ]
  },
  {
   "cell_type": "markdown",
   "metadata": {},
   "source": [
    "5. Odds: Given a list of numbers, write a list comprehension that produces a list of only the odd numbers in that list.\n",
    "        \n",
    "        >>> odds([1, 2, 3, 4, 5])\n",
    "        [1, 3, 5]\n",
    "\n",
    "        >>> odds([2, 4, 6])\n",
    "        []\n",
    "\n",
    "        >>> odds([-2, -4, -7])\n",
    "        [-7]"
   ]
  },
  {
   "cell_type": "code",
   "execution_count": 6,
   "metadata": {},
   "outputs": [
    {
     "data": {
      "text/plain": [
       "[-3, 21, -11]"
      ]
     },
     "execution_count": 6,
     "metadata": {},
     "output_type": "execute_result"
    }
   ],
   "source": [
    "def odds(nums):\n",
    "    oddNums = [num for num in nums if num%2!=0]\n",
    "    return oddNums\n",
    "    \n",
    "odds([2,-3,6,21,12,30,-11])"
   ]
  },
  {
   "cell_type": "markdown",
   "metadata": {},
   "source": [
    "6. Positives: Given a list of numbers, write a list comprehension that produces a list of only the positive numbers in that list.  \n",
    "        \n",
    "        >>> positives([-2, -1, 0, 1, 2])\n",
    "        [1, 2]"
   ]
  },
  {
   "cell_type": "code",
   "execution_count": 7,
   "metadata": {},
   "outputs": [
    {
     "data": {
      "text/plain": [
       "[2, 6, 21, 12, 30]"
      ]
     },
     "execution_count": 7,
     "metadata": {},
     "output_type": "execute_result"
    }
   ],
   "source": [
    "def positives(nums):\n",
    "    posNums = [num for num in nums if num>0]\n",
    "    return posNums\n",
    "    \n",
    "positives([2,-3,6,21,12,30,-11])"
   ]
  },
  {
   "cell_type": "markdown",
   "metadata": {},
   "source": [
    "7. Selectively stringify nums: Given a list of numbers, write a list comprehension that produces a list of strings of each number that is divisible by 5.\n",
    "        \n",
    "        >>> selective_stringify_nums([25, 91, 22, -7, -20])\n",
    "        ['25', '-20']"
   ]
  },
  {
   "cell_type": "code",
   "execution_count": 8,
   "metadata": {},
   "outputs": [
    {
     "data": {
      "text/plain": [
       "['15', '30', '-10']"
      ]
     },
     "execution_count": 8,
     "metadata": {},
     "output_type": "execute_result"
    }
   ],
   "source": [
    "def selective_stringify_nums(nums):\n",
    "    strNumsdivbyfive = [str(num) for num in nums if num%5==0]\n",
    "    return strNumsdivbyfive\n",
    "    \n",
    "selective_stringify_nums([2,15,6,21,12,30,-10])"
   ]
  },
  {
   "cell_type": "markdown",
   "metadata": {},
   "source": [
    "8. Words not 'the': Given a sentence, produce a list of the lengths of each word in the sentence, but only if the word is not 'the'. \n",
    "        \n",
    "        >>> words_not_the('the quick brown fox jumps over the lazy dog')\n",
    "        [5, 5, 3, 5, 4, 4, 3]"
   ]
  },
  {
   "cell_type": "code",
   "execution_count": 9,
   "metadata": {},
   "outputs": [
    {
     "data": {
      "text/plain": [
       "[5, 5, 3, 5, 4, 4, 3]"
      ]
     },
     "execution_count": 9,
     "metadata": {},
     "output_type": "execute_result"
    }
   ],
   "source": [
    "def words_not_the(sentence):\n",
    "    words = sentence.split()\n",
    "    wordLen = [len(word) for word in words if word!= 'the']\n",
    "    return wordLen\n",
    "    \n",
    "words_not_the('the quick brown fox jumps over the lazy dog')"
   ]
  },
  {
   "cell_type": "markdown",
   "metadata": {},
   "source": [
    "9. Vowels: Given a string representing a word, write a list comprehension that produces a list of all the vowels in that word.  \n",
    "        \n",
    "        >>> vowels('mathematics')\n",
    "        ['a', 'e', 'a', 'i']\n",
    "  "
   ]
  },
  {
   "cell_type": "code",
   "execution_count": 10,
   "metadata": {},
   "outputs": [
    {
     "data": {
      "text/plain": [
       "['a', 'e', 'a', 'i']"
      ]
     },
     "execution_count": 10,
     "metadata": {},
     "output_type": "execute_result"
    }
   ],
   "source": [
    "def vowels(word):\n",
    "    vowelList = [ch for ch in word if ch in ('a','e','i','o','u')]\n",
    "    return vowelList\n",
    "    \n",
    "vowels('mathematics')"
   ]
  },
  {
   "cell_type": "markdown",
   "metadata": {},
   "source": [
    "10. Vowels set: Given a string representing a word, write a set comprehension that produces a set of all the vowels in that word.  \n",
    "        \n",
    "        >>> vowels_set('mathematics')\n",
    "        set(['a', 'i', 'e'])"
   ]
  },
  {
   "cell_type": "code",
   "execution_count": 11,
   "metadata": {},
   "outputs": [
    {
     "data": {
      "text/plain": [
       "{'a', 'e', 'i'}"
      ]
     },
     "execution_count": 11,
     "metadata": {},
     "output_type": "execute_result"
    }
   ],
   "source": [
    "def vowels_set(word):\n",
    "    vowelset = set([ch for ch in word if ch in ('a','e','i','o','u')])\n",
    "    return vowelset\n",
    "    \n",
    "vowels_set('mathematics')"
   ]
  },
  {
   "cell_type": "markdown",
   "metadata": {},
   "source": [
    "11. Disemvowel: Given a sentence, return the sentence with all vowels removed.  \n",
    "        \n",
    "           >>> disemvowel('the quick brown fox jumps over the lazy dog')\n",
    "           'th qck brwn fx jmps vr th lzy dg'"
   ]
  },
  {
   "cell_type": "code",
   "execution_count": 12,
   "metadata": {},
   "outputs": [
    {
     "data": {
      "text/plain": [
       "'th qck brwn fx jmps vr th lzy dg'"
      ]
     },
     "execution_count": 12,
     "metadata": {},
     "output_type": "execute_result"
    }
   ],
   "source": [
    "def disemvowel(sentence):\n",
    "    clean_sentence = ''.join([ch for ch in sentence if ch.lower() not in ('a', 'e', 'i', 'o', 'u')])\n",
    "    return clean_sentence\n",
    "\n",
    "disemvowel('the quick brown fox jumps over the lazy dog')"
   ]
  },
  {
   "cell_type": "markdown",
   "metadata": {},
   "source": [
    "12. Wiggle numbers: Given a list of number, return the list with all even numbers doubled, and all odd numbers turned negative.  \n",
    "        \n",
    "        >>> wiggle_numbers([72, 26, 79, 70, 20, 68, 43, -71, 71, -2])\n",
    "        [144, 52, -79, 140, 40, 136, -43, 71, -71, -4]"
   ]
  },
  {
   "cell_type": "code",
   "execution_count": 13,
   "metadata": {},
   "outputs": [
    {
     "data": {
      "text/plain": [
       "[144, 52, -79, 140, 40, 136, -43, 71, -71, -4]"
      ]
     },
     "execution_count": 13,
     "metadata": {},
     "output_type": "execute_result"
    }
   ],
   "source": [
    "def wiggle_numbers(nums):\n",
    "    numList = [num*2 if num%2==0 else -num for num in nums]\n",
    "    return numList\n",
    "\n",
    "wiggle_numbers([72, 26, 79, 70, 20, 68, 43, -71, 71, -2])"
   ]
  },
  {
   "cell_type": "markdown",
   "metadata": {},
   "source": [
    "13. Encrypt lol: Given a sentence, return the setence will all it's letter transposed by 1 in the alphabet, but only if the letter is a-y.\n",
    "        \n",
    "        >>> encrypt_lol('the quick brown fox jumps over the lazy dog')\n",
    "        'uif rvjdl cspxo gpy kvnqt pwfs uif mbzy eph'\n",
    " "
   ]
  },
  {
   "cell_type": "code",
   "execution_count": 14,
   "metadata": {},
   "outputs": [
    {
     "data": {
      "text/plain": [
       "'uif rvjdl cspxo gpy kvnqt pwfs uif mbzy eph'"
      ]
     },
     "execution_count": 14,
     "metadata": {},
     "output_type": "execute_result"
    }
   ],
   "source": [
    "def encrypt_lol(sentence):\n",
    "    encrypt = [chr(ord(ch)+1) if ch !=' ' and ch <'y' else ch for ch in sentence]\n",
    "    return ''.join(encrypt)\n",
    "\n",
    "encrypt_lol('the quick brown fox jumps over the lazy dog')"
   ]
  },
  {
   "cell_type": "code",
   "execution_count": null,
   "metadata": {},
   "outputs": [],
   "source": []
  }
 ],
 "metadata": {
  "kernelspec": {
   "display_name": "Python 3",
   "language": "python",
   "name": "python3"
  },
  "language_info": {
   "codemirror_mode": {
    "name": "ipython",
    "version": 3
   },
   "file_extension": ".py",
   "mimetype": "text/x-python",
   "name": "python",
   "nbconvert_exporter": "python",
   "pygments_lexer": "ipython3",
   "version": "3.7.9"
  }
 },
 "nbformat": 4,
 "nbformat_minor": 4
}
