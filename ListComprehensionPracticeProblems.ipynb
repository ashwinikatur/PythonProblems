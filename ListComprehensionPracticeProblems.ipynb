"""Identity: Given a list of numbers, write a list comprehension that produces a copy of the list."""
/*
        >>> identity([1, 2, 3, 4, 5])
        [1, 2, 3, 4, 5]

        >>> identity([])
        []
    
*/
def identity(nums):
    def identity(nums):
    numsCopy = [num for num in nums]
    return numsCopy
    
identity([2,32,41,25,67,70])

    
"""Doubled: Given a list of numbers, write a list comprehension that produces a list of each number doubled."""
/*  
        >>> doubled([1, 2, 3, 4, 5])
        [2, 4, 6, 8, 10]

        >>> doubled([-2, 2, -10, 10])
        [-4, 4, -20, 20]
*/
def doubled(nums):
    doubleNums = [num*2 for num in nums]
    return doubleNums
    
doubled([2,-3,6,-4,12,30,-10])


"""Squared: Given a list of numbers, write a list comprehension that produces a list of the squares of each number."""
/* 
        >>> squared([1, 2, 3, 4, 5])
        [1, 4, 9, 16, 25]

        >>> squared([-2, 2, -10, 10])
        [4, 4, 100, 100]
*/    
def squared(nums):
    squares = [num*num for num in nums]
    return squares
    
squared([2,-3,6,-4,12,30,-10])


"""Evens: Given a list of numbers, write a list comprehension that produces a list of only the even numbers in that list."""
/* 
        >>> evens([1, 2, 3, 4, 5])
        [2, 4]

        >>> evens([1, 3, 5])
        []

        >>> evens([-2, -4, -7])
        [-2, -4]
*/
def evens(nums):
    evenNums = [num for num in nums if num%2==0]
    return evenNums
    
evens([2,-3,6,21,12,30,-11])


"""Odds: Given a list of numbers, write a list comprehension that produces a list of only the odd numbers in that list."""
/*  
        >>> odds([1, 2, 3, 4, 5])
        [1, 3, 5]

        >>> odds([2, 4, 6])
        []

        >>> odds([-2, -4, -7])
        [-7]
*/    
def odds(nums):
    oddNums = [num for num in nums if num%2!=0]
    return oddNums
    
odds([2,-3,6,21,12,30,-11])


"""Positives: Given a list of numbers, write a list comprehension that produces a list of only the positive numbers in that list."""

/*  
        >>> positives([-2, -1, 0, 1, 2])
        [1, 2]
        
*/    
def positives(nums):
    posNums = [num for num in nums if num>0]
    return posNums
    
positives([2,-3,6,21,12,30,-11])


"""Selectively stringify nums: Given a list of numbers, write a list comprehension that produces a list of strings of each number that is divisible by 5."""
/*  
        >>> selective_stringify_nums([25, 91, 22, -7, -20])
        ['25', '-20']

*/    
def selective_stringify_nums(nums):
    strNumsdivbyfive = [str(num) for num in nums if num%5==0]
    return strNumsdivbyfive
    
selective_stringify_nums([2,15,6,21,12,30,-10])


"""Words not 'the': Given a sentence, produce a list of the lengths of each word in the sentence, but only if the word is not 'the'."""
/* 
        >>> words_not_the('the quick brown fox jumps over the lazy dog')
        [5, 5, 3, 5, 4, 4, 3]

*/    
def words_not_the(sentence):
    words = sentence.split()
    wordLen = [len(word) for word in words if word!= 'the']
    return wordLen
    
words_not_the('the quick brown fox jumps over the lazy dog')


"""Vowels: Given a string representing a word, write a list comprehension that produces a list of all the vowels in that word."""
/*  
        >>> vowels('mathematics')
        ['a', 'e', 'a', 'i']

*/    
def vowels(word):
    vowelList = [ch for ch in word if ch in ('a','e','i','o','u')]
    return vowelList
    
vowels('mathematics')


"""Vowels set: Given a string representing a word, write a set comprehension that produces a set of all the vowels in that word."""
/*  
        >>> vowels_set('mathematics')
        set(['a', 'i', 'e'])

*/   
def vowels_set(word):
    vowelset = set([ch for ch in word if ch in ('a','e','i','o','u')])
    return vowelset
    
vowels_set('mathematics')


"""Disemvowel: Given a sentence, return the sentence with all vowels removed."""
/*  
        >>> disemvowel('the quick brown fox jumps over the lazy dog')
        'th qck brwn fx jmps vr th lzy dg'

*/    
def disemvowel(sentence):
    clean_sentence = ''.join([ch for ch in sentence if ch.lower() not in ('a', 'e', 'i', 'o', 'u')])
    return clean_sentence

disemvowel('the quick brown fox jumps over the lazy dog')


"""Wiggle numbers: Given a list of number, return the list with all even numbers doubled, and all odd numbers turned negative."""
/*  
        >>> wiggle_numbers([72, 26, 79, 70, 20, 68, 43, -71, 71, -2])
        [144, 52, -79, 140, 40, 136, -43, 71, -71, -4]

*/   
def wiggle_numbers(nums):
    numList = [num*2 if num%2==0 else -num for num in nums]
    return numList

wiggle_numbers([72, 26, 79, 70, 20, 68, 43, -71, 71, -2])


"""Encrypt lol: Given a sentence, return the setence will all it's letter transposed by 1 in the alphabet, but only if the letter is a-y."""
/*
        >>> encrypt_lol('the quick brown fox jumps over the lazy dog')
        'uif rvjdl cspxo gpy kvnqt pwfs uif mbzy eph'

    
*/    
def encrypt_lol(sentence):
    encrypt = [chr(ord(ch)+1) if ch !=' ' and ch <'y' else ch for ch in sentence]
    return ''.join(encrypt)

encrypt_lol('the quick brown fox jumps over the lazy dog')
